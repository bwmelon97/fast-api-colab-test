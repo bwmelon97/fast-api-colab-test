{
  "nbformat": 4,
  "nbformat_minor": 0,
  "metadata": {
    "colab": {
      "provenance": [],
      "authorship_tag": "ABX9TyO8WwDpBo/zHk6w8m0/gZRV",
      "include_colab_link": true
    },
    "kernelspec": {
      "name": "python3",
      "display_name": "Python 3"
    },
    "language_info": {
      "name": "python"
    }
  },
  "cells": [
    {
      "cell_type": "markdown",
      "metadata": {
        "id": "view-in-github",
        "colab_type": "text"
      },
      "source": [
        "<a href=\"https://colab.research.google.com/github/bwmelon97/fast-api-colab-test/blob/main/FastAPI_Test.ipynb\" target=\"_parent\"><img src=\"https://colab.research.google.com/assets/colab-badge.svg\" alt=\"Open In Colab\"/></a>"
      ]
    },
    {
      "cell_type": "markdown",
      "source": [
        "Install the dependencies"
      ],
      "metadata": {
        "id": "Liwe9nsqZIlY"
      }
    },
    {
      "cell_type": "code",
      "source": [
        "!pip install fastapi nest-asyncio pyngrok uvicorn python-multipart"
      ],
      "metadata": {
        "colab": {
          "base_uri": "https://localhost:8080/"
        },
        "id": "XXS25ApUZMpD",
        "outputId": "dac8cbe0-f901-47a0-da8f-2c7b855b2026"
      },
      "execution_count": 13,
      "outputs": [
        {
          "output_type": "stream",
          "name": "stdout",
          "text": [
            "Looking in indexes: https://pypi.org/simple, https://us-python.pkg.dev/colab-wheels/public/simple/\n",
            "Requirement already satisfied: fastapi in /usr/local/lib/python3.7/dist-packages (0.85.0)\n",
            "Requirement already satisfied: nest-asyncio in /usr/local/lib/python3.7/dist-packages (1.5.5)\n",
            "Requirement already satisfied: pyngrok in /usr/local/lib/python3.7/dist-packages (5.1.0)\n",
            "Requirement already satisfied: uvicorn in /usr/local/lib/python3.7/dist-packages (0.18.3)\n",
            "Collecting python-multipart\n",
            "  Downloading python-multipart-0.0.5.tar.gz (32 kB)\n",
            "Requirement already satisfied: starlette==0.20.4 in /usr/local/lib/python3.7/dist-packages (from fastapi) (0.20.4)\n",
            "Requirement already satisfied: pydantic!=1.7,!=1.7.1,!=1.7.2,!=1.7.3,!=1.8,!=1.8.1,<2.0.0,>=1.6.2 in /usr/local/lib/python3.7/dist-packages (from fastapi) (1.9.2)\n",
            "Requirement already satisfied: typing-extensions>=3.10.0 in /usr/local/lib/python3.7/dist-packages (from starlette==0.20.4->fastapi) (4.1.1)\n",
            "Requirement already satisfied: anyio<5,>=3.4.0 in /usr/local/lib/python3.7/dist-packages (from starlette==0.20.4->fastapi) (3.6.1)\n",
            "Requirement already satisfied: sniffio>=1.1 in /usr/local/lib/python3.7/dist-packages (from anyio<5,>=3.4.0->starlette==0.20.4->fastapi) (1.3.0)\n",
            "Requirement already satisfied: idna>=2.8 in /usr/local/lib/python3.7/dist-packages (from anyio<5,>=3.4.0->starlette==0.20.4->fastapi) (2.10)\n",
            "Requirement already satisfied: PyYAML in /usr/local/lib/python3.7/dist-packages (from pyngrok) (6.0)\n",
            "Requirement already satisfied: click>=7.0 in /usr/local/lib/python3.7/dist-packages (from uvicorn) (7.1.2)\n",
            "Requirement already satisfied: h11>=0.8 in /usr/local/lib/python3.7/dist-packages (from uvicorn) (0.14.0)\n",
            "Requirement already satisfied: six>=1.4.0 in /usr/local/lib/python3.7/dist-packages (from python-multipart) (1.15.0)\n",
            "Building wheels for collected packages: python-multipart\n",
            "  Building wheel for python-multipart (setup.py) ... \u001b[?25l\u001b[?25hdone\n",
            "  Created wheel for python-multipart: filename=python_multipart-0.0.5-py3-none-any.whl size=31678 sha256=dfdc1e334f862b32ee606959d4dfa90378a1a6910800dbd878ebc3bfa73ba92b\n",
            "  Stored in directory: /root/.cache/pip/wheels/2c/41/7c/bfd1c180534ffdcc0972f78c5758f89881602175d48a8bcd2c\n",
            "Successfully built python-multipart\n",
            "Installing collected packages: python-multipart\n",
            "Successfully installed python-multipart-0.0.5\n"
          ]
        }
      ]
    },
    {
      "cell_type": "markdown",
      "source": [
        "GPU 할당?"
      ],
      "metadata": {
        "id": "jyA47pRNc2d3"
      }
    },
    {
      "cell_type": "code",
      "source": [
        "import tensorflow as tf\n",
        "gpus = tf.config.list_physical_devices('GPU')\n",
        "for i in range(len(gpus)): #모든 gpu에 동일한 양 할당하기\n",
        "\ttf.config.experimental.set_memory_growth(gpus[i], True)"
      ],
      "metadata": {
        "id": "WdK7T2x3c4C4"
      },
      "execution_count": 8,
      "outputs": []
    },
    {
      "cell_type": "markdown",
      "source": [
        "Model load"
      ],
      "metadata": {
        "id": "4Z18tcOEcj9-"
      }
    },
    {
      "cell_type": "code",
      "source": [
        "import pickle\n",
        "#모델 로드\n",
        "pickle_in = open(\"/content/sample_data/model_220915.pkl\",\"rb\")\n",
        "model = pickle.load(pickle_in)"
      ],
      "metadata": {
        "id": "H86IQAxLcmJs"
      },
      "execution_count": 10,
      "outputs": []
    },
    {
      "cell_type": "markdown",
      "source": [
        "Create App"
      ],
      "metadata": {
        "id": "Ac-MTvrjZYtP"
      }
    },
    {
      "cell_type": "code",
      "execution_count": 25,
      "metadata": {
        "id": "uozeKdVLZBla"
      },
      "outputs": [],
      "source": [
        "from fastapi import FastAPI, File, UploadFile\n",
        "from fastapi.middleware.cors import CORSMiddleware\n",
        "\n",
        "app = FastAPI()\n",
        "\n",
        "app.add_middleware(\n",
        "    CORSMiddleware,\n",
        "    allow_origins=['*'],\n",
        "    allow_credentials=True,\n",
        "    allow_methods=['*'],\n",
        "    allow_headers=['*'],\n",
        ")\n",
        "\n",
        "@app.get('/')\n",
        "async def root():\n",
        "    return {'hello': 'world'}\n",
        "\n",
        "@app.get('/who')\n",
        "async def root():\n",
        "    return {'are': 'you'}\n",
        "\n",
        "@app.post('/how-old')\n",
        "async def root(age: int):\n",
        "    return {'age': age}\n",
        "\n",
        "@app.post('/') #데이터 업로드 및 현재 실행 경로에 저장\n",
        "async def root(file: UploadFile = File(...)) :\n",
        "    with open(f'{file.filename}', \"wb\") as buffer :\n",
        "        shutil.copyfileobj(file.file, buffer)\n",
        "    print(type(file))\n",
        "    return{\"file_name\" : file.filename}\n",
        "\n",
        "#여기서 문제는 file이 <class 'starlette.datastructures.UploadFile'>인데 우리는 numpy로 바꾸어줘야함!\n",
        "def load_image_into_numpy_array(data): #!!\n",
        "    return np.array(Image.open(BytesIO(data)))\n",
        "\n",
        "@app.post('/predict') #파이프라인, image를 함수안에넣는법!!\n",
        "#가능한 올리자마자 바로 넣는(굳이 저장안하고.. -> 매개변수로 연결)\n",
        "async def predict_num(img: UploadFile = File(...)):\n",
        "    print('hello world')\n",
        "    img = load_image_into_numpy_array(await img.read())\n",
        "    img = np.resize(img,(28,28))\n",
        "    img = np.expand_dims(img,0) #1차원의 모델은 keras에 의해 predict가 불가능해서 2차원으로 만들어주는 작업\n",
        "    predictions=model.predict(img)\n",
        "    best = np.argmax(predictions)\n",
        "    return { \"Answer\" : int(best) } #fastapi는 numpy를 return 못한다!"
      ]
    },
    {
      "cell_type": "markdown",
      "source": [
        "Import server packages"
      ],
      "metadata": {
        "id": "eSJXUtuUZgNy"
      }
    },
    {
      "cell_type": "code",
      "source": [
        "import nest_asyncio\n",
        "from pyngrok import ngrok\n",
        "import uvicorn"
      ],
      "metadata": {
        "id": "bnSXhwVLZbsT"
      },
      "execution_count": 15,
      "outputs": []
    },
    {
      "cell_type": "markdown",
      "source": [
        "Run the server application"
      ],
      "metadata": {
        "id": "oMVmE8IOaTEO"
      }
    },
    {
      "cell_type": "code",
      "source": [
        "ngrok_tunnel = ngrok.connect(8000)\n",
        "print('Public URL:', ngrok_tunnel.public_url)\n",
        "nest_asyncio.apply()\n",
        "uvicorn.run(app, port=8000)"
      ],
      "metadata": {
        "colab": {
          "base_uri": "https://localhost:8080/"
        },
        "id": "qXf5xNXBZ-jF",
        "outputId": "94b6520b-dc60-48f7-df60-898247324d6e"
      },
      "execution_count": 26,
      "outputs": [
        {
          "metadata": {
            "tags": null
          },
          "name": "stdout",
          "output_type": "stream",
          "text": [
            "Public URL: http://661a-34-125-175-47.ngrok.io\n"
          ]
        },
        {
          "metadata": {
            "tags": null
          },
          "name": "stderr",
          "output_type": "stream",
          "text": [
            "INFO:     Started server process [55]\n",
            "INFO:uvicorn.error:Started server process [55]\n",
            "INFO:     Waiting for application startup.\n",
            "INFO:uvicorn.error:Waiting for application startup.\n",
            "INFO:     Application startup complete.\n",
            "INFO:uvicorn.error:Application startup complete.\n",
            "INFO:     Uvicorn running on http://127.0.0.1:8000 (Press CTRL+C to quit)\n",
            "INFO:uvicorn.error:Uvicorn running on http://127.0.0.1:8000 (Press CTRL+C to quit)\n"
          ]
        },
        {
          "output_type": "stream",
          "name": "stdout",
          "text": [
            "INFO:     114.70.4.158:0 - \"GET / HTTP/1.1\" 200 OK\n",
            "INFO:     114.70.4.158:0 - \"GET /favicon.ico HTTP/1.1\" 404 Not Found\n",
            "INFO:     54.86.50.139:0 - \"POST /how-old HTTP/1.1\" 422 Unprocessable Entity\n",
            "INFO:     54.86.50.139:0 - \"POST /how-old HTTP/1.1\" 422 Unprocessable Entity\n",
            "INFO:     54.86.50.139:0 - \"POST /how-old HTTP/1.1\" 422 Unprocessable Entity\n"
          ]
        },
        {
          "output_type": "stream",
          "name": "stderr",
          "text": [
            "INFO:     Shutting down\n",
            "INFO:uvicorn.error:Shutting down\n",
            "INFO:     Waiting for application shutdown.\n",
            "INFO:uvicorn.error:Waiting for application shutdown.\n",
            "INFO:     Application shutdown complete.\n",
            "INFO:uvicorn.error:Application shutdown complete.\n",
            "INFO:     Finished server process [55]\n",
            "INFO:uvicorn.error:Finished server process [55]\n"
          ]
        }
      ]
    }
  ]
}